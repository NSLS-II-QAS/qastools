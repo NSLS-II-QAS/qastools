{
 "cells": [
  {
   "cell_type": "code",
   "execution_count": 1,
   "metadata": {},
   "outputs": [],
   "source": [
    "%matplotlib notebook\n",
    "import numpy as np\n",
    "import time\n",
    "\n",
    "from qastools.interpolation import interpolate_and_save, bin_data\n",
    "from databroker import Broker\n",
    "db = Broker.named(\"qas\")\n",
    "import matplotlib.pyplot as plt"
   ]
  },
  {
   "cell_type": "code",
   "execution_count": 2,
   "metadata": {},
   "outputs": [
    {
     "name": "stdout",
     "output_type": "stream",
     "text": [
      "23ce7e5c-3ca9-45d4-9b67-95d8982308dd\n",
      "Thu Mar  8 17:36:24 2018\n",
      "Converting to energy, using key mono1_enc\n"
     ]
    },
    {
     "ename": "AttributeError",
     "evalue": "'dict' object has no attribute 'interp_df'",
     "output_type": "error",
     "traceback": [
      "\u001b[0;31m---------------------------------------------------------------------------\u001b[0m",
      "\u001b[0;31mAttributeError\u001b[0m                            Traceback (most recent call last)",
      "\u001b[0;32m<ipython-input-2-bdbdc4cecc26>\u001b[0m in \u001b[0;36m<module>\u001b[0;34m()\u001b[0m\n\u001b[1;32m      6\u001b[0m \u001b[0;34m\u001b[0m\u001b[0m\n\u001b[1;32m      7\u001b[0m \u001b[0mgen_parser\u001b[0m \u001b[0;34m=\u001b[0m \u001b[0minterpolate_and_save\u001b[0m\u001b[0;34m(\u001b[0m\u001b[0;34m'qas'\u001b[0m\u001b[0;34m,\u001b[0m \u001b[0;34m'qas-analysis'\u001b[0m\u001b[0;34m,\u001b[0m \u001b[0muid\u001b[0m\u001b[0;34m,\u001b[0m \u001b[0mmono_name\u001b[0m\u001b[0;34m=\u001b[0m\u001b[0;34m'mono1_enc'\u001b[0m\u001b[0;34m,\u001b[0m \u001b[0mpulses_per_degree\u001b[0m\u001b[0;34m=\u001b[0m\u001b[0;32mNone\u001b[0m\u001b[0;34m)\u001b[0m\u001b[0;34m\u001b[0m\u001b[0m\n\u001b[0;32m----> 8\u001b[0;31m \u001b[0minterp_df\u001b[0m\u001b[0;34m=\u001b[0m \u001b[0mgen_parser\u001b[0m\u001b[0;34m.\u001b[0m\u001b[0minterp_df\u001b[0m\u001b[0;34m\u001b[0m\u001b[0m\n\u001b[0m",
      "\u001b[0;31mAttributeError\u001b[0m: 'dict' object has no attribute 'interp_df'"
     ]
    }
   ],
   "source": [
    "uid= db[-1].start['uid']\n",
    "#uid = \"94ffd468-746c-4817-8740-30fa68780c50\"\n",
    "\n",
    "print(uid)\n",
    "print(time.ctime(db[uid].start['time']))\n",
    "\n",
    "gen_parser = interpolate_and_save('qas', 'qas-analysis', uid, mono_name='mono1_enc', pulses_per_degree=None)\n",
    "interp_df= gen_parser.interp_df"
   ]
  },
  {
   "cell_type": "code",
   "execution_count": null,
   "metadata": {
    "scrolled": false
   },
   "outputs": [],
   "source": []
  },
  {
   "cell_type": "code",
   "execution_count": null,
   "metadata": {},
   "outputs": [],
   "source": [
    "print(db[uid].start)\n",
    "print(db[uid].stop)"
   ]
  },
  {
   "cell_type": "code",
   "execution_count": null,
   "metadata": {},
   "outputs": [],
   "source": [
    "\n",
    "plt.figure(0);\n",
    "#plt.plot(interp_df.energy, np.log(interp_df.i0/interp_df.it))\n",
    "\n",
    "#plt.plot(interp_df.it)\n",
    "plt.plot(interp_df.energy, np.log(interp_df.i0/interp_df.it))\n",
    "#plt.plot(interp_df.energy)\n",
    "plt.xlabel(\"energy (eV)\", size=15)\n",
    "plt.ylabel(\"$\\mu$\", size=15)\n",
    "plt.title(\"$\\mu (E)$\")\n",
    "#plt.plot(interp_df.energy,'+')"
   ]
  },
  {
   "cell_type": "code",
   "execution_count": null,
   "metadata": {},
   "outputs": [],
   "source": [
    "# bin the data\n",
    "e0 =  8979\n",
    "bin_df = bin_data(gen_parser, e0)"
   ]
  },
  {
   "cell_type": "code",
   "execution_count": null,
   "metadata": {},
   "outputs": [],
   "source": [
    "plt.figure(1)\n",
    "plt.plot(bin_df.energy, np.log(bin_df.i0/bin_df.it))\n",
    "plt.ylabel(\"$\\mu$\", size=15)\n",
    "plt.title(\"$\\mu (E)$\")\n",
    "plt.title(\"$\\mu (E)$ (binned taking into account resolution smearing)\")"
   ]
  },
  {
   "cell_type": "code",
   "execution_count": null,
   "metadata": {},
   "outputs": [],
   "source": [
    "# finding the edge\n",
    "avg_energy = (bin_df.energy.values[1:] + bin_df.energy.values[:-1])*.5\n",
    "\n",
    "plt.figure(2);plt.clf()\n",
    "plt.plot(avg_energy, np.diff(np.log(bin_df.i0/bin_df.it))/np.diff(bin_df.energy))\n",
    "plt.axvline(8987)\n",
    "plt.xlim(8950, 9077)"
   ]
  },
  {
   "cell_type": "code",
   "execution_count": null,
   "metadata": {},
   "outputs": [],
   "source": []
  },
  {
   "cell_type": "code",
   "execution_count": null,
   "metadata": {},
   "outputs": [],
   "source": []
  },
  {
   "cell_type": "code",
   "execution_count": null,
   "metadata": {},
   "outputs": [],
   "source": []
  },
  {
   "cell_type": "code",
   "execution_count": null,
   "metadata": {},
   "outputs": [],
   "source": []
  }
 ],
 "metadata": {
  "kernelspec": {
   "display_name": "Python 3",
   "language": "python",
   "name": "python3"
  },
  "language_info": {
   "codemirror_mode": {
    "name": "ipython",
    "version": 3
   },
   "file_extension": ".py",
   "mimetype": "text/x-python",
   "name": "python",
   "nbconvert_exporter": "python",
   "pygments_lexer": "ipython3",
   "version": "3.6.2"
  }
 },
 "nbformat": 4,
 "nbformat_minor": 2
}
